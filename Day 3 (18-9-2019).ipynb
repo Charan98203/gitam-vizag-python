{
 "cells": [
  {
   "cell_type": "markdown",
   "metadata": {},
   "source": [
    "#### programming in python with strings\n",
    "* string\n",
    " * string slicing\n",
    " * fundamental programming and examples"
   ]
  },
  {
   "cell_type": "markdown",
   "metadata": {},
   "source": [
    "##### string slicing"
   ]
  },
  {
   "cell_type": "code",
   "execution_count": 6,
   "metadata": {},
   "outputs": [
    {
     "name": "stdout",
     "output_type": "stream",
     "text": [
      "c\n",
      "h\n",
      "a\n",
      "6\n",
      "n\n",
      "n\n",
      "a\n"
     ]
    }
   ],
   "source": [
    "s1 =\"charan\"\n",
    "print(s1[0])\n",
    "print(s1[1])\n",
    "print(s1[2])\n",
    "print(len(s1))\n",
    "print(s1[len(s1)-1])\n",
    "print(s1[-1])\n",
    "print(s1[-4])"
   ]
  },
  {
   "cell_type": "code",
   "execution_count": 8,
   "metadata": {},
   "outputs": [
    {
     "name": "stdout",
     "output_type": "stream",
     "text": [
      "ch\n",
      "an\n",
      "ran\n",
      "ara\n",
      "hara\n"
     ]
    }
   ],
   "source": [
    "print(s1[0:2]) #acces the first two characters\n",
    "print(s1[-2:]) #acces the last two characters\n",
    "print(s1[3:])\n",
    "print(s1[2:5]) # acces the characters from 2 to 5\n",
    "print(s1[1:-1])"
   ]
  },
  {
   "cell_type": "code",
   "execution_count": 9,
   "metadata": {},
   "outputs": [
    {
     "data": {
      "text/plain": [
       "'narahc'"
      ]
     },
     "execution_count": 9,
     "metadata": {},
     "output_type": "execute_result"
    }
   ],
   "source": [
    "s1[-1::-1]"
   ]
  },
  {
   "cell_type": "code",
   "execution_count": 10,
   "metadata": {},
   "outputs": [
    {
     "data": {
      "text/plain": [
       "'nrh'"
      ]
     },
     "execution_count": 10,
     "metadata": {},
     "output_type": "execute_result"
    }
   ],
   "source": [
    "#  acces the alternate characters from reverse direction\n",
    "# python -- nhy\n",
    "s1[:: -2]\n"
   ]
  },
  {
   "cell_type": "code",
   "execution_count": 11,
   "metadata": {},
   "outputs": [
    {
     "data": {
      "text/plain": [
       "'cr'"
      ]
     },
     "execution_count": 11,
     "metadata": {},
     "output_type": "execute_result"
    }
   ],
   "source": [
    "s1[:: 3]"
   ]
  },
  {
   "cell_type": "markdown",
   "metadata": {},
   "source": [
    "#### functions with string options"
   ]
  },
  {
   "cell_type": "code",
   "execution_count": 12,
   "metadata": {},
   "outputs": [
    {
     "data": {
      "text/plain": [
       "'narahc'"
      ]
     },
     "execution_count": 12,
     "metadata": {},
     "output_type": "execute_result"
    }
   ],
   "source": [
    "# reverse the string\n",
    "\n",
    "def reversestr(s):\n",
    "    return s[-1::-1]\n",
    "reversestr('charan')"
   ]
  },
  {
   "cell_type": "code",
   "execution_count": 13,
   "metadata": {},
   "outputs": [
    {
     "name": "stdout",
     "output_type": "stream",
     "text": [
      "False\n",
      "True\n"
     ]
    }
   ],
   "source": [
    "# to check the given  string is palindrome or Not a palindrome\n",
    "\n",
    "def ispalindrome(s):\n",
    "    if s== s[-1::-1]:\n",
    "        return True\n",
    "    return False\n",
    "print(ispalindrome('charan'))\n",
    "print(ispalindrome('ganag'))\n",
    "    "
   ]
  },
  {
   "cell_type": "markdown",
   "metadata": {},
   "source": [
    "##### function to print the upper case characters\n"
   ]
  },
  {
   "cell_type": "code",
   "execution_count": 3,
   "metadata": {},
   "outputs": [
    {
     "name": "stdout",
     "output_type": "stream",
     "text": [
      "C H A R A N "
     ]
    }
   ],
   "source": [
    "# function to print the Upper case characters\n",
    "# example : python -- P T\n",
    "\n",
    "\n",
    " # ASCII\n",
    "    # A -Z : 65 - 90\n",
    "    # a -z : 97 -122\n",
    "    # 0 -9 : 48 -57\n",
    "    # space :32\n",
    "    \n",
    "    \n",
    "def printUpper(s):\n",
    "    for i in range(len(s)):\n",
    "        if ord(s[i]) >= 65 and ord(s[i]) <= 90:\n",
    "            print(s[i],end=' ')\n",
    "    return\n",
    "printUpper('CHARAN') # P T"
   ]
  },
  {
   "cell_type": "code",
   "execution_count": 48,
   "metadata": {},
   "outputs": [
    {
     "data": {
      "text/plain": [
       "'samecount'"
      ]
     },
     "execution_count": 48,
     "metadata": {},
     "output_type": "execute_result"
    }
   ],
   "source": [
    "# function to return the output as \"samecount\" or \"programming\"\n",
    "# samecount -- lower and upper char have samecount\n",
    "# programming -- count of lower and upper case is not same\n",
    "\n",
    "\n",
    "# example #1 : pyThOn --3 P T O\n",
    "#                    -- 3 y h n\n",
    "# output : amecount\n",
    "\n",
    "# example #2  :PythoN -- 2 p N\n",
    "#                    -- 4 y t h o\n",
    "# output : programming\n",
    "\n",
    "def findCharCount(s):\n",
    "    cntUpper = 0\n",
    "    cntLower = 0\n",
    "    for i in range(len(s)) :\n",
    "        if ord(s[i]) >= 65 and ord(s[i]) <= 90 :\n",
    "            cntUpper += 1 # cntUpper =cntUpper +1\n",
    "        elif ord(s[i]) >=97 and ord(s[i]) <= 122 :\n",
    "            cntLower += 1 # cntLower =cntLower +1\n",
    "    if cntLower == cntUpper:\n",
    "        return \"samecount\"\n",
    "    return \"programming\"\n",
    "findCharCount('PyThoN')       \n",
    "\n"
   ]
  },
  {
   "cell_type": "code",
   "execution_count": 49,
   "metadata": {},
   "outputs": [
    {
     "name": "stdout",
     "output_type": "stream",
     "text": [
      "2 3 4 8 9 "
     ]
    }
   ],
   "source": [
    "# funtion to extract the digits from the string\n",
    "# example #1 :\n",
    "# input :appli18cation89\n",
    "#output : 1 8 8 9\n",
    "\n",
    "def extractDigits(s):\n",
    "    for i in range(len(s)):\n",
    "        if ord(s[i]) >= 48 and ord(s[i]) <=57:\n",
    "             print(s[i],end=' ')\n",
    "    return\n",
    "extractDigits('Appli234cation89')\n"
   ]
  },
  {
   "cell_type": "code",
   "execution_count": 70,
   "metadata": {},
   "outputs": [
    {
     "data": {
      "text/plain": [
       "38"
      ]
     },
     "execution_count": 70,
     "metadata": {},
     "output_type": "execute_result"
    }
   ],
   "source": [
    "# function to add the digits of the string\n",
    "#example #1 :\n",
    "# input :appli2345cation789\n",
    "#output : 38(2+3+4+5+7+8+9)\n",
    "\n",
    "\n",
    "def sumofDigits(s):\n",
    "    sum = 0\n",
    "    for i in range(len(s)):\n",
    "        if ord(s[i]) >= 48 and ord(s[i]) <=57:\n",
    "            sum = sum +(ord(s[i])-48) \n",
    "    return sum\n",
    "sumofDigits('appli2345cation789')\n",
    "\n"
   ]
  },
  {
   "cell_type": "code",
   "execution_count": 71,
   "metadata": {},
   "outputs": [
    {
     "name": "stdout",
     "output_type": "stream",
     "text": [
      "M A D E "
     ]
    }
   ],
   "source": [
    "#function to  2nd word in upper case\n",
    "#example #1 :\n",
    "#input :python Made easy\n",
    "#output :MADE\n",
    "\n",
    "#example #2:\n",
    "#input :learn Python strings\n",
    "#output :PYTHON\n",
    "\n",
    "def wordUpperCase(s):\n",
    "    cntSpace = 0\n",
    "    for i in range(len(s)):\n",
    "        if ord(s[i]) == 32 :\n",
    "            cntSpace += 1\n",
    "        if cntSpace == 1:\n",
    "            if ord(s[i]) >= 65 and ord(s[i]) <= 90:\n",
    "                print(s[i],end=' ')\n",
    "            elif ord(s[i]) >= 97 and ord(s[i]) <= 122:\n",
    "                print(chr(ord(s[i])-32),end=' ')\n",
    "        if cntSpace == 2:\n",
    "            break\n",
    "    return      \n",
    "wordUpperCase('Python Made Easy')"
   ]
  },
  {
   "cell_type": "markdown",
   "metadata": {},
   "source": [
    "#### list\n",
    " - one of the data structure in python\n",
    " - data structure means to store, sort and search options\n",
    " - it's one common data structures in python, the items of list separeted by comma and enclosed in square brackets []\n",
    "     -example \n",
    "        * list1 = [1,2,3,4,5]\n",
    "        * list2 = [\"gitam\",1,2,1.89,\"vizag\"]\n",
    "       "
   ]
  },
  {
   "cell_type": "code",
   "execution_count": 89,
   "metadata": {},
   "outputs": [
    {
     "name": "stdout",
     "output_type": "stream",
     "text": [
      "[1, 8, 5, 16, 9, 2, 5555]\n",
      "1\n",
      "8\n",
      "5555\n",
      "[9, 2]\n",
      "[1, 8, 5, 9, 2, 5555]\n",
      "[1, 8, 5, 658, 2, 5555]\n",
      "6\n",
      "[1, 8, 5, 658, 2, 5555, 1, 8, 5, 658, 2, 5555, 1, 8, 5, 658, 2, 5555]\n",
      "True\n",
      "1 8 5 658 2 5555 \n",
      "5555\n",
      "1\n",
      "6229\n",
      "1038\n"
     ]
    }
   ],
   "source": [
    "li = [1,8,5,16,9,2,5555]\n",
    "print(li)  #will print the all the list items\n",
    "print(li[0])  # access the first item of the list\n",
    "print(li[1])  # access the second item of the list\n",
    "print(li[-1])  #access the last iteam of the list\n",
    "print(li[4:6])  # access the specific element in the limits of the list\n",
    "del li[3]\n",
    "print(li)\n",
    "li[3]=658\n",
    "print(li)\n",
    "print(len(li)) \n",
    "print(li * 3)\n",
    "print( 658 in li)  # knowing it is present or not in list\n",
    "for i in range(len(li)):\n",
    "    print(li[i],end=' ')\n",
    "print()    \n",
    "\n",
    "print(max(li))\n",
    "print(min(li))\n",
    "print(sum(li))  \n",
    "print(sum(li)//len(li)) #avg of list items"
   ]
  },
  {
   "cell_type": "code",
   "execution_count": 1,
   "metadata": {},
   "outputs": [
    {
     "name": "stdout",
     "output_type": "stream",
     "text": [
      "455\n",
      "10\n"
     ]
    }
   ],
   "source": [
    "#function to return the large number from the list\n",
    "\n",
    "def largenumber(l):\n",
    "   l.sort()\n",
    "   return l[-1]\n",
    "def genericlarge(l,n):\n",
    "   l.sort()\n",
    "   return l[-n]\n",
    "l=[10,25,3,455,2]\n",
    "print(largenumber(l))\n",
    "print(genericlarge(l,3))"
   ]
  },
  {
   "cell_type": "code",
   "execution_count": 2,
   "metadata": {},
   "outputs": [
    {
     "data": {
      "text/plain": [
       "2"
      ]
     },
     "execution_count": 2,
     "metadata": {},
     "output_type": "execute_result"
    }
   ],
   "source": [
    "# methods of list\n",
    "li = [1,9,16,25,5]\n",
    "\n",
    "li.append(29) # add the new  item at the end of list\n",
    "li.insert(2,56) # add the new itwm at the specific index\n",
    "li.append(9)\n",
    "li.count(9) # returns the value how many objects repeated\n",
    "li.index(56) # return the value at that index\n"
   ]
  },
  {
   "cell_type": "code",
   "execution_count": 3,
   "metadata": {},
   "outputs": [
    {
     "data": {
      "text/plain": [
       "5"
      ]
     },
     "execution_count": 3,
     "metadata": {},
     "output_type": "execute_result"
    }
   ],
   "source": [
    "# method of the list objects\n",
    "li.sort() # Sorts the list in asending order\n",
    "li.pop() # last index value\n",
    "li.pop(1) # removes the\n"
   ]
  },
  {
   "cell_type": "markdown",
   "metadata": {},
   "source": [
    "#### file handling in python\n",
    "* -file  -- document which contains some information and resides in permanent device\n",
    "* diffrent types of files --.txt,.pdf,.doc,.ppf and etc....\n",
    "* input--keyboard\n",
    "* output -- file system"
   ]
  },
  {
   "cell_type": "code",
   "execution_count": 4,
   "metadata": {},
   "outputs": [
    {
     "name": "stdout",
     "output_type": "stream",
     "text": [
      "File is Successfully created and Data has inserted\n"
     ]
    }
   ],
   "source": [
    "# function to create file and write some data the file\\\n",
    "# Mode -- w(it creates the file and write to the same data)\n",
    "#     if the file already exists with same name ten it will\n",
    "\n",
    "\n",
    "def createFile(filename):\n",
    "   f = open(filename,'w')\n",
    "   for i in range(10):\n",
    "       f.write('This is %d line \\n' % i)\n",
    "   print('File is Successfully created and Data has inserted')\n",
    "   return\n",
    "createFile('data.txt')\n"
   ]
  },
  {
   "cell_type": "code",
   "execution_count": 5,
   "metadata": {},
   "outputs": [
    {
     "data": {
      "text/plain": [
       "'C:\\\\Users\\\\cse319\\\\Desktop\\\\Untitled Folder'"
      ]
     },
     "execution_count": 5,
     "metadata": {},
     "output_type": "execute_result"
    }
   ],
   "source": [
    "pwd"
   ]
  },
  {
   "cell_type": "code",
   "execution_count": 3,
   "metadata": {},
   "outputs": [
    {
     "name": "stdout",
     "output_type": "stream",
     "text": [
      "completed successfully\n"
     ]
    }
   ],
   "source": [
    "def  createFile(filename):\n",
    "    f = open(filename,'w')\n",
    "    f.write('gitam vizag python training\\n')\n",
    "    print('completed successfully')\n",
    "    return\n",
    "createFile('data.txt')"
   ]
  },
  {
   "cell_type": "code",
   "execution_count": 4,
   "metadata": {},
   "outputs": [
    {
     "name": "stdout",
     "output_type": "stream",
     "text": [
      "program completed successfully\n"
     ]
    }
   ],
   "source": [
    "def appendMode(filename):\n",
    "    f = open(filename,'a')\n",
    "    f.write('gitam vizag\\n')\n",
    "    f.write('python programming\\n')\n",
    "    print('program completed successfully')\n",
    "    return\n",
    "appendMode('data.txt')"
   ]
  },
  {
   "cell_type": "code",
   "execution_count": 10,
   "metadata": {},
   "outputs": [
    {
     "name": "stdout",
     "output_type": "stream",
     "text": [
      "gitam vizag python traininggitam vizag\n",
      "python programming\n",
      "\n"
     ]
    }
   ],
   "source": [
    "# function to read the file\n",
    "\n",
    "def readFileData(filename):\n",
    "    f = open(filename,'r')\n",
    "    if f.mode == 'r':\n",
    "        a = f.read()\n",
    "        print(a)\n",
    "    f.close()\n",
    "    return\n",
    "readFileData('data.txt')\n",
    "    \n"
   ]
  },
  {
   "cell_type": "code",
   "execution_count": 5,
   "metadata": {},
   "outputs": [
    {
     "name": "stdout",
     "output_type": "stream",
     "text": [
      "['p', 'y', 't', 'h', 'o', 'n']\n"
     ]
    }
   ],
   "source": [
    "# analysis  on the file ---word count, char count, digit count\n",
    "s1 =\"p y t h o n\"\n",
    "print(s1.split())"
   ]
  },
  {
   "cell_type": "code",
   "execution_count": 2,
   "metadata": {},
   "outputs": [
    {
     "data": {
      "text/plain": [
       "7"
      ]
     },
     "execution_count": 2,
     "metadata": {},
     "output_type": "execute_result"
    }
   ],
   "source": [
    "# word count -- input file\n",
    "  \n",
    "def wordCount(filename):\n",
    "    with open(filename,'r') as f:\n",
    "        if f.mode == 'r':\n",
    "            a = f.read()\n",
    "            li = a.split()\n",
    "    return len(li)\n",
    "wordCount('data.txt')\n",
    "    "
   ]
  },
  {
   "cell_type": "code",
   "execution_count": null,
   "metadata": {},
   "outputs": [],
   "source": [
    "# specific word count from the file"
   ]
  },
  {
   "cell_type": "code",
   "execution_count": 14,
   "metadata": {},
   "outputs": [
    {
     "data": {
      "text/plain": [
       "0"
      ]
     },
     "execution_count": 14,
     "metadata": {},
     "output_type": "execute_result"
    }
   ],
   "source": [
    "def specificwordcnt(filename,word):\n",
    "    with open(filename,'r') as f:\n",
    "        if f.mode == 'r':\n",
    "            a = f.read()\n",
    "            li =a.split()\n",
    "   \n",
    "    return li.count(word)\n",
    "specificwordcnt('data.txt','This')"
   ]
  },
  {
   "cell_type": "code",
   "execution_count": 15,
   "metadata": {},
   "outputs": [
    {
     "data": {
      "text/plain": [
       "59"
      ]
     },
     "execution_count": 15,
     "metadata": {},
     "output_type": "execute_result"
    }
   ],
   "source": [
    "# function to find the character count from the input file\n",
    "\n",
    "def charcount(filename):\n",
    "    with open(filename,'r') as f:\n",
    "        if f.mode == \"r\":\n",
    "            a =f.read()\n",
    "            li = list(a)\n",
    "    return len(li) \n",
    "charcount('data.txt')"
   ]
  },
  {
   "cell_type": "code",
   "execution_count": 16,
   "metadata": {},
   "outputs": [
    {
     "data": {
      "text/plain": [
       "'C:\\\\Users\\\\cse319\\\\Desktop\\\\Untitled Folder'"
      ]
     },
     "execution_count": 16,
     "metadata": {},
     "output_type": "execute_result"
    }
   ],
   "source": [
    "pwd\n"
   ]
  },
  {
   "cell_type": "code",
   "execution_count": 22,
   "metadata": {},
   "outputs": [
    {
     "data": {
      "text/plain": [
       "4"
      ]
     },
     "execution_count": 22,
     "metadata": {},
     "output_type": "execute_result"
    }
   ],
   "source": [
    "#find no of lines por rows in the given input stream\n",
    "\n",
    "\n",
    "def  findlinecount(filename):\n",
    "    with open(filename,'r') as f:\n",
    "        if f.mode ==  'r':\n",
    "            a =f.read()\n",
    "            li = a.split('\\n')\n",
    "    return len(li)\n",
    "findlinecount('data.txt')\n",
    "        "
   ]
  },
  {
   "cell_type": "code",
   "execution_count": 29,
   "metadata": {},
   "outputs": [
    {
     "ename": "UnboundLocalError",
     "evalue": "local variable 'cntlower' referenced before assignment",
     "output_type": "error",
     "traceback": [
      "\u001b[1;31m---------------------------------------------------------------------------\u001b[0m",
      "\u001b[1;31mUnboundLocalError\u001b[0m                         Traceback (most recent call last)",
      "\u001b[1;32m<ipython-input-29-839e02866ac0>\u001b[0m in \u001b[0;36m<module>\u001b[1;34m\u001b[0m\n\u001b[0;32m     16\u001b[0m     \u001b[0moutput\u001b[0m \u001b[1;33m=\u001b[0m \u001b[1;34m'upper case : {0} lower case : {1} digit : {2}'\u001b[0m \u001b[1;33m.\u001b[0m\u001b[0mformat\u001b[0m\u001b[1;33m(\u001b[0m\u001b[0mcntupper\u001b[0m\u001b[1;33m,\u001b[0m\u001b[0mcntlower\u001b[0m\u001b[1;33m,\u001b[0m\u001b[0mcntdigit\u001b[0m\u001b[1;33m)\u001b[0m\u001b[1;33m\u001b[0m\u001b[1;33m\u001b[0m\u001b[0m\n\u001b[0;32m     17\u001b[0m     \u001b[1;32mreturn\u001b[0m \u001b[0moutput\u001b[0m\u001b[1;33m\u001b[0m\u001b[1;33m\u001b[0m\u001b[0m\n\u001b[1;32m---> 18\u001b[1;33m \u001b[0mcasecount\u001b[0m\u001b[1;33m(\u001b[0m\u001b[1;34m'data.txt'\u001b[0m\u001b[1;33m)\u001b[0m\u001b[1;33m\u001b[0m\u001b[1;33m\u001b[0m\u001b[0m\n\u001b[0m",
      "\u001b[1;32m<ipython-input-29-839e02866ac0>\u001b[0m in \u001b[0;36mcasecount\u001b[1;34m(filename)\u001b[0m\n\u001b[0;32m     11\u001b[0m             \u001b[0mcntupper\u001b[0m \u001b[1;33m+=\u001b[0m \u001b[1;36m1\u001b[0m\u001b[1;33m\u001b[0m\u001b[1;33m\u001b[0m\u001b[0m\n\u001b[0;32m     12\u001b[0m         \u001b[1;32melif\u001b[0m \u001b[0mord\u001b[0m\u001b[1;33m(\u001b[0m\u001b[0mli\u001b[0m\u001b[1;33m[\u001b[0m\u001b[1;36m1\u001b[0m\u001b[1;33m]\u001b[0m\u001b[1;33m)\u001b[0m \u001b[1;33m>=\u001b[0m \u001b[1;36m97\u001b[0m \u001b[1;32mand\u001b[0m \u001b[0mord\u001b[0m\u001b[1;33m(\u001b[0m\u001b[0mli\u001b[0m\u001b[1;33m[\u001b[0m\u001b[0mi\u001b[0m\u001b[1;33m]\u001b[0m\u001b[1;33m)\u001b[0m \u001b[1;33m<=\u001b[0m \u001b[1;36m122\u001b[0m\u001b[1;33m:\u001b[0m\u001b[1;33m\u001b[0m\u001b[1;33m\u001b[0m\u001b[0m\n\u001b[1;32m---> 13\u001b[1;33m             \u001b[0mcntlower\u001b[0m \u001b[1;33m+=\u001b[0m \u001b[1;36m1\u001b[0m\u001b[1;33m\u001b[0m\u001b[1;33m\u001b[0m\u001b[0m\n\u001b[0m\u001b[0;32m     14\u001b[0m         \u001b[1;32melif\u001b[0m \u001b[0mord\u001b[0m\u001b[1;33m(\u001b[0m\u001b[0mli\u001b[0m\u001b[1;33m[\u001b[0m\u001b[0mi\u001b[0m\u001b[1;33m]\u001b[0m\u001b[1;33m)\u001b[0m \u001b[1;33m>=\u001b[0m \u001b[1;36m48\u001b[0m \u001b[1;32mand\u001b[0m \u001b[0mord\u001b[0m\u001b[1;33m(\u001b[0m\u001b[0mli\u001b[0m\u001b[1;33m[\u001b[0m\u001b[0mi\u001b[0m\u001b[1;33m]\u001b[0m\u001b[1;33m)\u001b[0m \u001b[1;33m<=\u001b[0m \u001b[1;36m57\u001b[0m\u001b[1;33m:\u001b[0m\u001b[1;33m\u001b[0m\u001b[1;33m\u001b[0m\u001b[0m\n\u001b[0;32m     15\u001b[0m             \u001b[0mcntdigit\u001b[0m \u001b[1;33m+=\u001b[0m \u001b[1;36m1\u001b[0m\u001b[1;33m\u001b[0m\u001b[1;33m\u001b[0m\u001b[0m\n",
      "\u001b[1;31mUnboundLocalError\u001b[0m: local variable 'cntlower' referenced before assignment"
     ]
    }
   ],
   "source": [
    "# function to find the upper and lower case characters\n",
    "# from the input steam\n",
    "\n",
    "def casecount(filename):\n",
    "    with open(filename,'r') as f:\n",
    "        if f.mode == 'r':\n",
    "            a = f.read()\n",
    "            li = list(a)\n",
    "    for i in range(len(li)):\n",
    "        if ord(li[i]) >= 65 and ord(li[i]) <= 97:\n",
    "            cntupper += 1\n",
    "        elif ord(li[1]) >= 97 and ord(li[i]) <= 122:\n",
    "            cntlower += 1\n",
    "        elif ord(li[i]) >= 48 and ord(li[i]) <= 57:\n",
    "            cntdigit += 1\n",
    "    output = 'upper case : {0} lower case : {1} digit : {2}' .format(cntupper,cntlower,cntdigit)\n",
    "    return output\n",
    "casecount('data.txt')"
   ]
  },
  {
   "cell_type": "code",
   "execution_count": null,
   "metadata": {},
   "outputs": [],
   "source": []
  },
  {
   "cell_type": "code",
   "execution_count": null,
   "metadata": {},
   "outputs": [],
   "source": []
  },
  {
   "cell_type": "code",
   "execution_count": null,
   "metadata": {},
   "outputs": [],
   "source": []
  }
 ],
 "metadata": {
  "kernelspec": {
   "display_name": "Python 3",
   "language": "python",
   "name": "python3"
  },
  "language_info": {
   "codemirror_mode": {
    "name": "ipython",
    "version": 3
   },
   "file_extension": ".py",
   "mimetype": "text/x-python",
   "name": "python",
   "nbconvert_exporter": "python",
   "pygments_lexer": "ipython3",
   "version": "3.7.3"
  }
 },
 "nbformat": 4,
 "nbformat_minor": 2
}
