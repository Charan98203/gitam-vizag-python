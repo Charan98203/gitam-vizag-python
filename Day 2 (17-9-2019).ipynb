{
 "cells": [
  {
   "cell_type": "markdown",
   "metadata": {},
   "source": [
    "### while loop\n"
   ]
  },
  {
   "cell_type": "code",
   "execution_count": 5,
   "metadata": {},
   "outputs": [
    {
     "name": "stdout",
     "output_type": "stream",
     "text": [
      "enter a number :2\n",
      "1 2 "
     ]
    }
   ],
   "source": [
    "# print numbers from 1 to n\n",
    "# input : 10\n",
    "# output : 1 2 3 4 5 6 .....10\n",
    "n = int(input('enter a number :'))\n",
    "i = 1\n",
    "while i<=n:\n",
    "        print(i,end= \" \")\n",
    "        i =i + 1"
   ]
  },
  {
   "cell_type": "code",
   "execution_count": 14,
   "metadata": {},
   "outputs": [
    {
     "name": "stdout",
     "output_type": "stream",
     "text": [
      "enter a number :50\n",
      "650\n"
     ]
    }
   ],
   "source": [
    "# read a number as input\n",
    "# output as only even numbers sum from 1 to N\n",
    "\n",
    "#input : 10\n",
    "#output : 30 (2+4+6+8+10)\n",
    "\n",
    "n = int(input('enter a number :'))\n",
    "\n",
    "i = 1\n",
    "s =0\n",
    "while i<=n:\n",
    "    if i % 2 ==0:\n",
    "         s = s+i\n",
    "    i = i + 1\n",
    "print(s)    "
   ]
  },
  {
   "cell_type": "code",
   "execution_count": 22,
   "metadata": {},
   "outputs": [
    {
     "name": "stdout",
     "output_type": "stream",
     "text": [
      "enter a number :654321\n",
      "123456"
     ]
    }
   ],
   "source": [
    "# read a number as input\n",
    "# output has be digits of the number\n",
    "\n",
    "# input :  123456\n",
    "# output :  654321\n",
    "n = int(input('enter a number :'))\n",
    "while n != 0:\n",
    "    print(n%10,end='')\n",
    "    n = n//10"
   ]
  },
  {
   "cell_type": "markdown",
   "metadata": {},
   "source": [
    "#### functional programming\n",
    " * simple\n",
    " - eassy undestand\n",
    " - better reuseability\n",
    " - lengthy program will be divided into sub programs"
   ]
  },
  {
   "cell_type": "code",
   "execution_count": null,
   "metadata": {},
   "outputs": [],
   "source": [
    "def nameof the function(<parameters>):\n",
    "    statements\n",
    "    return"
   ]
  },
  {
   "cell_type": "code",
   "execution_count": 31,
   "metadata": {},
   "outputs": [
    {
     "data": {
      "text/plain": [
       "20"
      ]
     },
     "execution_count": 31,
     "metadata": {},
     "output_type": "execute_result"
    }
   ],
   "source": [
    "# read a number\n",
    "# print the even digit sum from the number\n",
    "  \n",
    "# input : 12345678\n",
    "# output :20(2+4+6+8)\n",
    "\n",
    "def evendigitsum(n):\n",
    "    s=0\n",
    "    while n !=0:\n",
    "        r =n % 10\n",
    "        if r % 2 == 0:\n",
    "             s= s+r\n",
    "        n = n // 10\n",
    "    return s\n",
    "evendigitsum(12345678)"
   ]
  },
  {
   "cell_type": "code",
   "execution_count": 4,
   "metadata": {},
   "outputs": [
    {
     "data": {
      "text/plain": [
       "9"
      ]
     },
     "execution_count": 4,
     "metadata": {},
     "output_type": "execute_result"
    }
   ],
   "source": [
    "# input : 19535\n",
    "#output ; 9(large digit of the given number)\n",
    "# fubctional programming\n",
    " \n",
    "def largedigit(n):\n",
    "    large = 0\n",
    "    while n != 0:\n",
    "        r = n % 10\n",
    "        if large < r:\n",
    "            large = r\n",
    "        n = n // 10\n",
    "    return large\n",
    "largedigit(19535)"
   ]
  },
  {
   "cell_type": "code",
   "execution_count": 21,
   "metadata": {},
   "outputs": [
    {
     "name": "stdout",
     "output_type": "stream",
     "text": [
      "no\n",
      "no\n"
     ]
    }
   ],
   "source": [
    "# read a number as input\n",
    "#output as yes or no\n",
    "\n",
    "# input : 145\n",
    "#output : yes\n",
    "\n",
    "# input : 123\n",
    "#output : no\n",
    "\n",
    "def factorial(n):\n",
    "    fact =1\n",
    "    i = 1\n",
    "    while i <=n:\n",
    "        fact = fact * 1\n",
    "        i = i + 1\n",
    "    return fact\n",
    "\n",
    "def digitfactsum(n):\n",
    "    s =0\n",
    "    buffer = n\n",
    "    while n != 0 :\n",
    "        r = n % 10\n",
    "        s += factorial(r)\n",
    "        n = n // 10\n",
    "    if buffer == s:\n",
    "         \n",
    "        return \"yes\"\n",
    "    else :\n",
    "        return \"no\"\n",
    "        return\n",
    "print(digitfactsum(145))  #yes\n",
    "print(digitfactsum(123)) #no"
   ]
  },
  {
   "cell_type": "code",
   "execution_count": 19,
   "metadata": {},
   "outputs": [
    {
     "name": "stdout",
     "output_type": "stream",
     "text": [
      "palindromr\n",
      "not palindrome\n"
     ]
    }
   ],
   "source": [
    "# read a number as input\n",
    "# output as palindrome or not a polindrome\n",
    "#palindrome -- a  number after eversing is same as the original mumber\n",
    "\n",
    "#input :121\n",
    "#output : not a palindrome\n",
    "\n",
    "def ispalindrome(n) :\n",
    "    rev =0\n",
    "    buffer = n\n",
    "    while n != 0:\n",
    "        rev = rev * 10 +(n%10)\n",
    "        n = n//10\n",
    "    if buffer == rev :\n",
    "        return \"palindromr\"\n",
    "    return \"not palindrome\"\n",
    "print(ispalindrome(121)) #palindrome\n",
    "print(ispalindrome(123)) #not palindrome"
   ]
  },
  {
   "cell_type": "code",
   "execution_count": 20,
   "metadata": {},
   "outputs": [
    {
     "ename": "SyntaxError",
     "evalue": "invalid syntax (<ipython-input-20-4cda4270a3e7>, line 6)",
     "output_type": "error",
     "traceback": [
      "\u001b[1;36m  File \u001b[1;32m\"<ipython-input-20-4cda4270a3e7>\"\u001b[1;36m, line \u001b[1;32m6\u001b[0m\n\u001b[1;33m    def printseries(1b,ub):\u001b[0m\n\u001b[1;37m                    ^\u001b[0m\n\u001b[1;31mSyntaxError\u001b[0m\u001b[1;31m:\u001b[0m invalid syntax\n"
     ]
    }
   ],
   "source": [
    "# function to print the numbers between two limits\n",
    "#input : 11 25\n",
    "#output :11 12 13 14 .........25\n",
    "\n",
    "\n",
    "def printseries(1b, ub):\n",
    "    for x in range(1b,ub+1):\n",
    "        print(x,end = '')\n",
    "    return\n",
    "printseries(11,25)    "
   ]
  },
  {
   "cell_type": "code",
   "execution_count": null,
   "metadata": {},
   "outputs": [],
   "source": [
    "#function to print the altenate numbers\n",
    "#[500,520] -- 500 502 504 506 508 510 ...520\n",
    "#[100,140]  -- 100 104 108 112 116 ....140\n",
    "def alternatenumbers(1b,ub)\n",
    "\n"
   ]
  },
  {
   "cell_type": "code",
   "execution_count": null,
   "metadata": {},
   "outputs": [],
   "source": []
  },
  {
   "cell_type": "code",
   "execution_count": null,
   "metadata": {},
   "outputs": [],
   "source": []
  },
  {
   "cell_type": "code",
   "execution_count": null,
   "metadata": {},
   "outputs": [],
   "source": []
  },
  {
   "cell_type": "code",
   "execution_count": null,
   "metadata": {},
   "outputs": [],
   "source": []
  },
  {
   "cell_type": "code",
   "execution_count": null,
   "metadata": {},
   "outputs": [],
   "source": []
  },
  {
   "cell_type": "code",
   "execution_count": null,
   "metadata": {},
   "outputs": [],
   "source": []
  },
  {
   "cell_type": "code",
   "execution_count": null,
   "metadata": {},
   "outputs": [],
   "source": []
  },
  {
   "cell_type": "code",
   "execution_count": null,
   "metadata": {},
   "outputs": [],
   "source": []
  },
  {
   "cell_type": "code",
   "execution_count": null,
   "metadata": {},
   "outputs": [],
   "source": []
  }
 ],
 "metadata": {
  "kernelspec": {
   "display_name": "Python 3",
   "language": "python",
   "name": "python3"
  },
  "language_info": {
   "codemirror_mode": {
    "name": "ipython",
    "version": 3
   },
   "file_extension": ".py",
   "mimetype": "text/x-python",
   "name": "python",
   "nbconvert_exporter": "python",
   "pygments_lexer": "ipython3",
   "version": "3.7.3"
  }
 },
 "nbformat": 4,
 "nbformat_minor": 2
}
