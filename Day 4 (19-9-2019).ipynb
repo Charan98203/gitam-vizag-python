{
 "cells": [
  {
   "cell_type": "markdown",
   "metadata": {},
   "source": [
    "#### string functions\n",
    " - upper() -- will convert the input string into upper case\n",
    " - lower() -- will convert the input string into lower case"
   ]
  },
  {
   "cell_type": "code",
   "execution_count": 1,
   "metadata": {},
   "outputs": [
    {
     "name": "stdout",
     "output_type": "stream",
     "text": [
      "PYTHON\n",
      "python\n"
     ]
    }
   ],
   "source": [
    "s1 = 'python'\n",
    "print(s1.upper())\n",
    "print(s1.lower())"
   ]
  },
  {
   "cell_type": "markdown",
   "metadata": {},
   "source": [
    "### string boolean functions\n",
    "  - True or fals\n",
    "  - islower() -- true if the string have all characters lowercase\n",
    "  - isupper() -- true if the string have all characters uppercase\n",
    "  - istitle() -- true if the string in title case\n",
    "  - isnumeric() --  true if the string numeric\n",
    "  - isalpha() -- true if the string is only alaphabets\n",
    "  - isspace() -- true if the string is space"
   ]
  },
  {
   "cell_type": "code",
   "execution_count": 2,
   "metadata": {},
   "outputs": [
    {
     "name": "stdout",
     "output_type": "stream",
     "text": [
      "True\n",
      "False\n",
      "False\n"
     ]
    }
   ],
   "source": [
    "s1 = \"python\"\n",
    "print(s1.islower())\n",
    "print(s1.isupper())\n",
    "print(s1.istitle())"
   ]
  },
  {
   "cell_type": "code",
   "execution_count": 3,
   "metadata": {},
   "outputs": [],
   "source": [
    "s1 = \"12345\"\n"
   ]
  },
  {
   "cell_type": "code",
   "execution_count": 4,
   "metadata": {},
   "outputs": [
    {
     "data": {
      "text/plain": [
       "1234"
      ]
     },
     "execution_count": 4,
     "metadata": {},
     "output_type": "execute_result"
    }
   ],
   "source": [
    "s1=1234\n",
    "s1"
   ]
  },
  {
   "cell_type": "code",
   "execution_count": 5,
   "metadata": {},
   "outputs": [
    {
     "name": "stdout",
     "output_type": "stream",
     "text": [
      "True\n",
      "True\n",
      "False\n"
     ]
    }
   ],
   "source": [
    "s1 = '12345'\n",
    "s2 = 'python'\n",
    "print(s1.isnumeric())\n",
    "print(s2.isalpha())\n",
    "print(s2.isnumeric())\n"
   ]
  },
  {
   "cell_type": "code",
   "execution_count": 6,
   "metadata": {},
   "outputs": [
    {
     "name": "stdout",
     "output_type": "stream",
     "text": [
      "True\n",
      "False\n"
     ]
    }
   ],
   "source": [
    "s1 = ' '\n",
    "s2 = 'python'\n",
    "print(s1.isspace())\n",
    "print(s2.isspace())"
   ]
  },
  {
   "cell_type": "markdown",
   "metadata": {},
   "source": [
    "#### String Methods\n",
    "- split() -- return the list of string  separated by whitespace\n",
    "- replace() -- return the string replace by word/character\n",
    "- join()    -- concatination of two strings"
   ]
  },
  {
   "cell_type": "code",
   "execution_count": 7,
   "metadata": {},
   "outputs": [
    {
     "name": "stdout",
     "output_type": "stream",
     "text": [
      "['python progr', 'mming le', 'rn m', 'de e', 'sy']\n"
     ]
    }
   ],
   "source": [
    "s1 = 'python programming learn made easy'\n",
    "li = s1.split('a')\n",
    "print(li)"
   ]
  },
  {
   "cell_type": "code",
   "execution_count": 8,
   "metadata": {},
   "outputs": [
    {
     "name": "stdout",
     "output_type": "stream",
     "text": [
      "python a  a programming a learn a made a eassy\n"
     ]
    }
   ],
   "source": [
    "s1 ='python  programming learn made eassy'\n",
    "print(s1.replace(' ',' a '))"
   ]
  },
  {
   "cell_type": "code",
   "execution_count": 9,
   "metadata": {},
   "outputs": [
    {
     "name": "stdout",
     "output_type": "stream",
     "text": [
      " ####p####y####t####h####o####n#### \n"
     ]
    }
   ],
   "source": [
    "s1 =' python '\n",
    "print('####'.join(s1))\n"
   ]
  },
  {
   "cell_type": "markdown",
   "metadata": {},
   "source": [
    "#### String formating\n",
    " - classic version\n",
    " - current version python"
   ]
  },
  {
   "cell_type": "code",
   "execution_count": 10,
   "metadata": {},
   "outputs": [
    {
     "name": "stdout",
     "output_type": "stream",
     "text": [
      "python  programming\n"
     ]
    }
   ],
   "source": [
    "# classic version (c or c++)\n",
    "li = ['python','programming']\n",
    "print('%s  %s' % (li[0],li[1]))"
   ]
  },
  {
   "cell_type": "code",
   "execution_count": 11,
   "metadata": {},
   "outputs": [
    {
     "name": "stdout",
     "output_type": "stream",
     "text": [
      "1 2 3 4\n"
     ]
    }
   ],
   "source": [
    "li = [1,2,3,4]\n",
    "print('%d %d %d %d' % (li[0],li[1],li[2],li[3]))"
   ]
  },
  {
   "cell_type": "code",
   "execution_count": null,
   "metadata": {},
   "outputs": [],
   "source": []
  },
  {
   "cell_type": "code",
   "execution_count": 12,
   "metadata": {},
   "outputs": [
    {
     "name": "stdout",
     "output_type": "stream",
     "text": [
      "list item 0 : python \n",
      "list item 1 : programming\n"
     ]
    }
   ],
   "source": [
    " # .format\n",
    "li = ['python','programming']\n",
    "print('list item 0 : {0} \\nlist item 1 : {1}'.format(li[0],li[1]))"
   ]
  },
  {
   "cell_type": "code",
   "execution_count": 13,
   "metadata": {},
   "outputs": [
    {
     "name": "stdout",
     "output_type": "stream",
     "text": [
      "1 2 3 4 \n"
     ]
    }
   ],
   "source": [
    "li = [1,2,3,4]\n",
    "print('{0} {1} {2} {3} '.format(li[0],li[1],li[2],li[3]))"
   ]
  },
  {
   "cell_type": "markdown",
   "metadata": {},
   "source": [
    "#### Data structures\n",
    "  - list\n",
    "  - tuples\n",
    "  - dictionaries"
   ]
  },
  {
   "cell_type": "markdown",
   "metadata": {},
   "source": [
    "#### Dictionaries\n",
    "   - it works on concept of unique data\n",
    "   - key, value is the unique identifier a value \n",
    "   - each key is separated from value colon(:)\n",
    "   - each key and value is separated by comma(,)\n",
    "   -  dictionaries are  enclosed with curly brsckrts ({})"
   ]
  },
  {
   "cell_type": "code",
   "execution_count": 14,
   "metadata": {},
   "outputs": [
    {
     "name": "stdout",
     "output_type": "stream",
     "text": [
      "{'name': 'gitam', 'emailId': 'gitamvizag@gmail.com', 'address': 'vizag'}\n"
     ]
    }
   ],
   "source": [
    "a1 = {'name':'gitam','emailId':'gitamvizag@gmail.com','address':'vizag'}\n",
    "print(a1)"
   ]
  },
  {
   "cell_type": "code",
   "execution_count": 15,
   "metadata": {},
   "outputs": [
    {
     "data": {
      "text/plain": [
       "'gitamvizag@gmail.com'"
      ]
     },
     "execution_count": 15,
     "metadata": {},
     "output_type": "execute_result"
    }
   ],
   "source": [
    "a1['emailId'] # acces the specific  key value"
   ]
  },
  {
   "cell_type": "code",
   "execution_count": 16,
   "metadata": {},
   "outputs": [],
   "source": [
    "a1['emailId'] = 'gitam@hotmail.com' # update the value using key"
   ]
  },
  {
   "cell_type": "code",
   "execution_count": 17,
   "metadata": {},
   "outputs": [
    {
     "data": {
      "text/plain": [
       "'gitam@hotmail.com'"
      ]
     },
     "execution_count": 17,
     "metadata": {},
     "output_type": "execute_result"
    }
   ],
   "source": [
    "a1['emailId']"
   ]
  },
  {
   "cell_type": "code",
   "execution_count": 18,
   "metadata": {},
   "outputs": [
    {
     "data": {
      "text/plain": [
       "dict_keys(['name', 'emailId', 'address'])"
      ]
     },
     "execution_count": 18,
     "metadata": {},
     "output_type": "execute_result"
    }
   ],
   "source": [
    "a1.keys()"
   ]
  },
  {
   "cell_type": "code",
   "execution_count": 19,
   "metadata": {},
   "outputs": [
    {
     "data": {
      "text/plain": [
       "dict_values(['gitam', 'gitam@hotmail.com', 'vizag'])"
      ]
     },
     "execution_count": 19,
     "metadata": {},
     "output_type": "execute_result"
    }
   ],
   "source": [
    "a1.values()\n"
   ]
  },
  {
   "cell_type": "code",
   "execution_count": 20,
   "metadata": {},
   "outputs": [],
   "source": [
    "del a1['emailId']"
   ]
  },
  {
   "cell_type": "code",
   "execution_count": 21,
   "metadata": {},
   "outputs": [
    {
     "data": {
      "text/plain": [
       "{'name': 'gitam', 'address': 'vizag'}"
      ]
     },
     "execution_count": 21,
     "metadata": {},
     "output_type": "execute_result"
    }
   ],
   "source": [
    "a1"
   ]
  },
  {
   "cell_type": "markdown",
   "metadata": {},
   "source": [
    "#### contact Application\n",
    "  - add contact details\n",
    "  "
   ]
  },
  {
   "cell_type": "code",
   "execution_count": 22,
   "metadata": {},
   "outputs": [
    {
     "name": "stdout",
     "output_type": "stream",
     "text": [
      "contact detais are added \n",
      "contact detais are added \n",
      "contact detais are added \n"
     ]
    }
   ],
   "source": [
    "contact = {}\n",
    "# lets create a function to add contact details\n",
    "def addContact(name,phone):\n",
    "    if name not in contact: #cond to check name is exists or Not\n",
    "        contact[name] = phone\n",
    "        print('contact detais are added ')\n",
    "    else:\n",
    "        print('name is already exits')\n",
    "    return\n",
    "addContact('charan','7288082686')\n",
    "addContact('sunith','8500699950')\n",
    "addContact('rajesh','8500699940')"
   ]
  },
  {
   "cell_type": "code",
   "execution_count": 23,
   "metadata": {},
   "outputs": [
    {
     "name": "stdout",
     "output_type": "stream",
     "text": [
      "charan  ;  7288082686\n",
      "sunith  ;  8500699950\n",
      "rajesh  ;  8500699940\n"
     ]
    }
   ],
   "source": [
    "def searchContact(name):\n",
    "    if name in contact:\n",
    "        print(name, ' ; ',contact[name])\n",
    "    else:\n",
    "        print('{0} does not present'.format(name))\n",
    "    return\n",
    "searchContact('charan')\n",
    "searchContact('sunith')\n",
    "searchContact('rajesh')"
   ]
  },
  {
   "cell_type": "code",
   "execution_count": 24,
   "metadata": {},
   "outputs": [
    {
     "name": "stdout",
     "output_type": "stream",
     "text": [
      "3 contact are added\n"
     ]
    }
   ],
   "source": [
    "# import new contact details\n",
    "#merge the previous details wirh new deta\n",
    "\n",
    "def importContact(newcontact):\n",
    "    contact.update(newContact)\n",
    "    print(len(newContact.keys()),'contact are added')\n",
    "    return\n",
    "newContact={'gitam':9988775544,'jessy':2233456178,'polar':78965412}\n",
    "importContact(newContact)\n"
   ]
  },
  {
   "cell_type": "code",
   "execution_count": 25,
   "metadata": {},
   "outputs": [
    {
     "data": {
      "text/plain": [
       "{'charan': '7288082686',\n",
       " 'sunith': '8500699950',\n",
       " 'rajesh': '8500699940',\n",
       " 'gitam': 9988775544,\n",
       " 'jessy': 2233456178,\n",
       " 'polar': 78965412}"
      ]
     },
     "execution_count": 25,
     "metadata": {},
     "output_type": "execute_result"
    }
   ],
   "source": [
    "contact"
   ]
  },
  {
   "cell_type": "code",
   "execution_count": 27,
   "metadata": {},
   "outputs": [
    {
     "name": "stdout",
     "output_type": "stream",
     "text": [
      "gitam update successfully\n",
      "naveen not exists\n"
     ]
    }
   ],
   "source": [
    "def modifyContact(name,phone):\n",
    "    if name in contact:\n",
    "        contact[name] = phone\n",
    "        print(name,'update successfully')\n",
    "    else:\n",
    "        print(name,'not exists')\n",
    "    return\n",
    "modifyContact('gitam',9876543210)\n",
    "modifyContact('naveen',8529637410)"
   ]
  },
  {
   "cell_type": "code",
   "execution_count": 39,
   "metadata": {},
   "outputs": [
    {
     "name": "stdout",
     "output_type": "stream",
     "text": [
      "gitam not exists\n",
      "polar deleted successfully\n"
     ]
    }
   ],
   "source": [
    "def deleteContact(name):\n",
    "    if name in contact:\n",
    "        del contact[name]\n",
    "        print(name,'deleted successfully')\n",
    "    else:\n",
    "        print(name,'not exists')\n",
    "    return\n",
    "deleteContact('gitam')\n",
    "deleteContact('polar')"
   ]
  },
  {
   "cell_type": "code",
   "execution_count": 40,
   "metadata": {},
   "outputs": [
    {
     "data": {
      "text/plain": [
       "{'charan': '7288082686', 'sunith': '8500699950', 'rajesh': '8500699940'}"
      ]
     },
     "execution_count": 40,
     "metadata": {},
     "output_type": "execute_result"
    }
   ],
   "source": [
    "contact"
   ]
  },
  {
   "cell_type": "markdown",
   "metadata": {},
   "source": [
    "### tuples\n",
    "- tuples enclosed with parenthesis()\n",
    "### differences between tuples and list\n",
    "  - list are mutable -- can be changed/modify\n",
    "         - read and write the data\n",
    "  - tuples are immutable -- can be changed/modify\n",
    "         - read data only"
   ]
  },
  {
   "cell_type": "code",
   "execution_count": 44,
   "metadata": {},
   "outputs": [
    {
     "name": "stdout",
     "output_type": "stream",
     "text": [
      "(2, 1)\n"
     ]
    }
   ],
   "source": [
    "t1=(1,2,3,4,5)\n",
    "print(t1[1::-1])"
   ]
  },
  {
   "cell_type": "markdown",
   "metadata": {},
   "source": [
    "### standard libraries\n",
    "- regular expressions\n",
    "  - to validate the indian mobile\n",
    "  - to validate the emailid\n",
    "  - to validate the username\n",
    "  - to validate the password\n",
    "- understanding the regular expressions\n",
    "  - [0-9] -- any digit matching\n",
    "  - [a-z] -- any lower case matching\n",
    "  - [A-Z] -- any upper case matching\n",
    "  - cap symbol is used to represent the start of regular expressions\n",
    "  "
   ]
  },
  {
   "cell_type": "code",
   "execution_count": 45,
   "metadata": {},
   "outputs": [
    {
     "name": "stdout",
     "output_type": "stream",
     "text": [
      "True\n",
      "False\n"
     ]
    }
   ],
   "source": [
    "# function to test the two digit number has input\n",
    "# true -- input two digit number\n",
    "# false -- input not a two digit number\n",
    "import re\n",
    "def twoDigitMatching(n):\n",
    "     pattern = '^[0-9]{2}$'\n",
    "        n = str(n)\n",
    "    if re.match(pattern,n):\n",
    "        return True\n",
    "    return False\n",
    "print(twoDigitMatching(12)) # True\n",
    "print(twoDigitMatching(123)) # False   "
   ]
  },
  {
   "cell_type": "code",
   "execution_count": 46,
   "metadata": {},
   "outputs": [
    {
     "name": "stdout",
     "output_type": "stream",
     "text": [
      "True\n",
      "False\n",
      "False\n"
     ]
    }
   ],
   "source": [
    "#regular expression for username\n",
    "#username -- should contain lower and upper case character\n",
    "#length --  min 5 Max 12\n",
    "def validateUsername(s):\n",
    "       pattern ='^[a-zA-Z]{5,12}$'\n",
    "    if re.match(pattern,s):\n",
    "        return True\n",
    "    return False\n",
    "print(validateUsername('Anilkumar')) # true\n",
    "print(validateUsername('Anil')) # false\n",
    "print(validateUsername('Gitamvizagpythonprogramming')) # false"
   ]
  },
  {
   "cell_type": "markdown",
   "metadata": {},
   "source": [
    "#### regular expression for indian Mobile\n",
    " - 10 digit number \n",
    " * first number is starts from[6-9]\n",
    "   - rest of 9 numbers in between [8-9]\n",
    "    - ex-- 9876543232\n",
    "  \n",
    "  * 11 digit number\n",
    "    - first number can be 0\n",
    "     - secon number can be[6-9]\n",
    "     - rest of 9 numbers is between[0-9]\n",
    "       -ex -- 09851741520 # true\n",
    "       -ex -- 9876543222 # false\n",
    "       \n",
    "   * 13 digit number \n",
    "     - first number can be +\n",
    "     - second number can be [6-9]\n",
    "     - rest of numbers[0-9]"
   ]
  },
  {
   "cell_type": "code",
   "execution_count": null,
   "metadata": {},
   "outputs": [],
   "source": [
    "# rule 1 : ^[6-9][0-9]{9}$\n",
    "# rule 2 : ^[0][6-9][0-9]{9}$\n",
    "# rule 3 : ^[+][9][1][6-9][0-9]{9}$\n"
   ]
  },
  {
   "cell_type": "code",
   "execution_count": 42,
   "metadata": {},
   "outputs": [
    {
     "data": {
      "text/plain": [
       "True"
      ]
     },
     "execution_count": 42,
     "metadata": {},
     "output_type": "execute_result"
    }
   ],
   "source": [
    "import re\n",
    "def validateIndianphone(n):\n",
    "    pattern = '^[6-9][0-9]{9}$|^[0][6-9][0-9]{9}$|^[+][9][1][6-9][0-9]{9}$'\n",
    "    n = str(n)\n",
    "    if re.match(pattern,n):\n",
    "        return True\n",
    "    return False\n",
    "validateIndianphone('+919988775566') # true"
   ]
  },
  {
   "cell_type": "markdown",
   "metadata": {},
   "source": [
    "### validate the email Id\n",
    "- ex -- username@DomainNmae.extension\n",
    "- ex -- dsps@gmail.com\n",
    "  * username\n",
    "     - len of string will be [6-15]\n",
    "     - no spl characters except undescore(_)\n",
    "     - username should nit bigns with underscore(_)\n",
    "     - all characters set digits, lower case and upper case\n",
    "        - ex -- charan_1997\n",
    "  * DomainName\n",
    "    - len of string will be [3-18]\n",
    "    - no spls characters\n",
    "    - characters set will be digits ,lowercase and uppercase\n",
    "        - ex - gmail,hotmail,ymail,rediff,and etc...\n",
    "  * Extension \n",
    "    - len of string will be [2-4]\n",
    "    - no spls characters allowed\n",
    "    - characters set will lower case characters\n",
    "       - ex -- com in au uk"
   ]
  },
  {
   "cell_type": "code",
   "execution_count": null,
   "metadata": {},
   "outputs": [],
   "source": [
    " # username re    : [0-9a-Az-Z _.]{5,4}\n",
    " # domain name re : [a-z0-9]{3-18} \n",
    "# extension re    :[a-z]{2-4}\n",
    "# emailid re      :^[0-9a-Az-Z _.]{5,4}[@][a-z0-9]{3-18}[.][a-z]{2-4}$"
   ]
  },
  {
   "cell_type": "code",
   "execution_count": 6,
   "metadata": {},
   "outputs": [
    {
     "data": {
      "text/plain": [
       "True"
      ]
     },
     "execution_count": 6,
     "metadata": {},
     "output_type": "execute_result"
    }
   ],
   "source": [
    "import re\n",
    "def validateEmail(email):    \n",
    "    pattern = '^[0-9a-zA-Z][0-9a-zA-Z_.]{5,14}[@][a-z0-9]{3,18}[.][a-z]{2,4}$'\n",
    "    if re.match(pattern,email):\n",
    "        return True\n",
    "    return False\n",
    "validateEmail('smanikumar.mk@gmail.com')"
   ]
  },
  {
   "cell_type": "code",
   "execution_count": 16,
   "metadata": {},
   "outputs": [
    {
     "data": {
      "text/plain": [
       "False"
      ]
     },
     "execution_count": 16,
     "metadata": {},
     "output_type": "execute_result"
    }
   ],
   "source": [
    "def validateEmailid(Email):\n",
    "    pattern = '^[0-9a-zA-Z][0-9a-zA-Z_.]{5,14}[@][a-z0-9]{3,18}[.][a-z]{2,4}$'\n",
    "    if re.match(pattern,Email):\n",
    "        return True\n",
    "    return False\n",
    "validateEmailid('charanchowdary.ggd@gmail.com') "
   ]
  },
  {
   "cell_type": "code",
   "execution_count": null,
   "metadata": {},
   "outputs": [],
   "source": []
  },
  {
   "cell_type": "code",
   "execution_count": null,
   "metadata": {},
   "outputs": [],
   "source": []
  }
 ],
 "metadata": {
  "kernelspec": {
   "display_name": "Python 3",
   "language": "python",
   "name": "python3"
  },
  "language_info": {
   "codemirror_mode": {
    "name": "ipython",
    "version": 3
   },
   "file_extension": ".py",
   "mimetype": "text/x-python",
   "name": "python",
   "nbconvert_exporter": "python",
   "pygments_lexer": "ipython3",
   "version": "3.7.3"
  }
 },
 "nbformat": 4,
 "nbformat_minor": 2
}
